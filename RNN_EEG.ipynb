{
 "cells": [
  {
   "cell_type": "code",
   "execution_count": 75,
   "metadata": {
    "collapsed": false,
    "scrolled": true
   },
   "outputs": [],
   "source": [
    "from __future__ import print_function\n",
    "import tensorflow as tf\n",
    "from tensorflow.contrib import rnn\n",
    "# import function from segment_EEG \n",
    "from segment_EEG import *\n",
    "from data_loader import check_load_Yvonne_dataset\n",
    "\n",
    "EEG_file_path = '/Users/Madhu/Documents/Courses/RA/EEG_data/YvonneDataSet_Exported_1.mat'\n",
    "label_file =  '/Users/Madhu/Documents/Courses/RA/EEG_data/YvonneDataSet_Labels_1.mat'\n",
    "\n",
    "EEG_channels = ['F3M2','F4M1','C3M2','C4M1','O1M2','O2M1']\n",
    "EEG, sleep_stage, other_info = check_load_Yvonne_dataset(EEG_file_path, label_file, channels=EEG_channels)\n",
    "\n",
    "# segments EEG and sleep stage vector into 30 seconds windows\n",
    "#segs, sleep_stages, seg_times, seg_masks = segment_EEG(EEG,sleep_stage,30,200,start_end_remove_epoch_num=2,amplitude_thres=500, to_remove_mean=False)\n"
   ]
  },
  {
   "cell_type": "code",
   "execution_count": 67,
   "metadata": {
    "collapsed": false
   },
   "outputs": [
    {
     "data": {
      "text/plain": [
       "[<matplotlib.lines.Line2D at 0x11306b9e8>]"
      ]
     },
     "execution_count": 67,
     "metadata": {},
     "output_type": "execute_result"
    },
    {
     "data": {
      "image/png": "[encoded data removed]",
      "text/plain": [
       "<matplotlib.figure.Figure at 0x1130a9710>"
      ]
     },
     "metadata": {},
     "output_type": "display_data"
    }
   ],
   "source": [
    "#print (\"EEG\",type(EEG)) (4872000, 6)\n",
    "import matplotlib.pyplot as plt\n",
    "%matplotlib inline\n",
    "# plt.plot(sleep_stage)\n",
    "plt.plot(EEG[:,0]) \n",
    "plt.plot(EEG[:,1]+3000) \n",
    "plt.plot(EEG[:,2]+1000)\n",
    "plt.plot(EEG[:,3]+5000 )\n",
    "plt.plot(EEG[:,4]+10000)\n",
    "plt.plot(EEG[:,5]+14000)\n",
    "# plt.plot(EEG[:,6]+30000)\n"
   ]
  },
  {
   "cell_type": "code",
   "execution_count": 13,
   "metadata": {
    "collapsed": true
   },
   "outputs": [],
   "source": [
    "# Parameters\n",
    "learning_rate = 0.001\n",
    "training_iters = 100000\n",
    "batch_size = 128\n",
    "display_step = 10\n",
    "\n",
    "# Network Parameters\n",
    "n_input = 28 # MNIST data input (img shape: 28*28)\n",
    "n_steps = 28 # timesteps\n",
    "n_hidden = 128 # hidden layer num of features\n",
    "n_classes = 10 # MNIST total classes (0-9 digits)\n",
    "\n",
    "# tf Graph input\n",
    "x = tf.placeholder(\"float\", [None, n_steps, n_input])\n",
    "y = tf.placeholder(\"float\", [None, n_classes])\n",
    "\n",
    "# Define weights\n",
    "weights = {\n",
    "    'out': tf.Variable(tf.random_normal([n_hidden, n_classes]))\n",
    "}\n",
    "\n",
    "biases = {\n",
    "    'out': tf.Variable(tf.random_normal([n_classes]))\n",
    "}\n"
   ]
  },
  {
   "cell_type": "code",
   "execution_count": 55,
   "metadata": {
    "collapsed": false
   },
   "outputs": [
    {
     "data": {
      "text/plain": [
       "TensorShape([Dimension(10)])"
      ]
     },
     "execution_count": 55,
     "metadata": {},
     "output_type": "execute_result"
    }
   ],
   "source": [
    "biases['out'].get_shape()"
   ]
  },
  {
   "cell_type": "code",
   "execution_count": 20,
   "metadata": {
    "collapsed": true
   },
   "outputs": [],
   "source": [
    "def RNN(x, weights, biases):\n",
    "\n",
    "    # Prepare data shape to match `rnn` function requirements\n",
    "    # Current data input shape: (batch_size, n_steps, n_input)\n",
    "    # Required shape: 'n_steps' tensors list of shape (batch_size, n_input)\n",
    "\n",
    "    # Permuting batch_size and n_steps\n",
    "    x = tf.transpose(x, [1, 0, 2]) #n_steps , batch , input features\n",
    "    # Reshaping to (n_steps*batch_size, n_input)\n",
    "    x = tf.reshape(x, [-1, n_input])\n",
    "    # Split to get a list of 'n_steps' tensors of shape (batch_size, n_input)\n",
    "    x = tf.split(x, n_steps, 0)\n",
    "    #x = tf.split(0, n_steps,x)\n",
    "\n",
    "    # Define a lstm cell with tensorflow\n",
    "    lstm_cell = rnn.BasicLSTMCell(n_hidden, forget_bias=1.0)\n",
    "    #lstm_cell = tf.nn.rnn_cell.BasicLSTMCell(n_hidden, forget_bias=1.0)\n",
    "\n",
    "    # Get lstm cell output\n",
    "    outputs, states = rnn.static_rnn(lstm_cell, x, dtype=tf.float32)\n",
    "    #outputs, states = tf.nn.rnn_cell.static_rnn(lstm_cell, x, dtype=tf.float32)\n",
    "\n",
    "    # Linear activation, using rnn inner loop last output\n",
    "    return tf.matmul(outputs[-1], weights['out']) + biases['out']\n",
    "\n"
   ]
  },
  {
   "cell_type": "code",
   "execution_count": 21,
   "metadata": {
    "collapsed": false
   },
   "outputs": [],
   "source": [
    "pred = RNN(x, weights, biases)\n",
    "\n",
    "# Define loss and optimizer\n",
    "cost = tf.reduce_mean(tf.nn.softmax_cross_entropy_with_logits(logits=pred, labels=y))\n",
    "optimizer = tf.train.AdamOptimizer(learning_rate=learning_rate).minimize(cost)\n",
    "\n",
    "# Evaluate model\n",
    "correct_pred = tf.equal(tf.argmax(pred,1), tf.argmax(y,1))\n",
    "accuracy = tf.reduce_mean(tf.cast(correct_pred, tf.float32))\n",
    "\n",
    "# Initializing the variables\n",
    "init = tf.global_variables_initializer()\n"
   ]
  },
  {
   "cell_type": "code",
   "execution_count": 22,
   "metadata": {
    "collapsed": false
   },
   "outputs": [],
   "source": [
    "batch_x, batch_y = mnist.train.next_batch(batch_size)"
   ]
  },
  {
   "cell_type": "code",
   "execution_count": 25,
   "metadata": {
    "collapsed": true
   },
   "outputs": [],
   "source": [
    "batch_x = batch_x.reshape((batch_size, n_steps, n_input))"
   ]
  },
  {
   "cell_type": "code",
   "execution_count": 41,
   "metadata": {
    "collapsed": false
   },
   "outputs": [
    {
     "name": "stdout",
     "output_type": "stream",
     "text": [
      "Iter, Minibatch Loss= 2.797817, Training Accuracy= 0.08594\n"
     ]
    }
   ],
   "source": [
    "    sess = tf.Session() \n",
    "    sess.run(init)\n",
    "    sess.run(optimizer, feed_dict={x: batch_x, y: batch_y})\n",
    "    # Calculate batch accuracy\n",
    "    acc = sess.run(accuracy, feed_dict={x: batch_x, y: batch_y})\n",
    "    # Calculate batch loss\n",
    "    loss = sess.run(cost, feed_dict={x: batch_x, y: batch_y})\n",
    "    print(\"Iter, Minibatch Loss= \" + \\\n",
    "    \"{:.6f}\".format(loss) + \", Training Accuracy= \" + \\\n",
    "    \"{:.5f}\".format(acc))\n",
    "\n"
   ]
  },
  {
   "cell_type": "code",
   "execution_count": 50,
   "metadata": {
    "collapsed": false
   },
   "outputs": [],
   "source": [
    "#pred = RNN(batch_x, weights, biases)\n",
    "k = sess.run(pred, feed_dict={x: batch_x, y: batch_y})\n",
    "#tf.Print(pred,[pred])"
   ]
  },
  {
   "cell_type": "code",
   "execution_count": 54,
   "metadata": {
    "collapsed": false
   },
   "outputs": [
    {
     "data": {
      "text/plain": [
       "array([-0.61608422, -1.19382083,  0.16823873,  0.85100746,  0.90058351,\n",
       "        0.28820345,  0.90822792,  1.32124901, -0.48871747, -1.49195373], dtype=float32)"
      ]
     },
     "execution_count": 54,
     "metadata": {},
     "output_type": "execute_result"
    }
   ],
   "source": [
    "k[0]"
   ]
  },
  {
   "cell_type": "code",
   "execution_count": 76,
   "metadata": {
    "collapsed": false
   },
   "outputs": [
    {
     "name": "stdout",
     "output_type": "stream",
     "text": [
      "Iter 1280, Minibatch Loss= 2.092655, Training Accuracy= 0.27344\n",
      "Iter 2560, Minibatch Loss= 1.874824, Training Accuracy= 0.39844\n",
      "Iter 3840, Minibatch Loss= 1.376874, Training Accuracy= 0.48438\n",
      "Iter 5120, Minibatch Loss= 1.132361, Training Accuracy= 0.62500\n",
      "Iter 6400, Minibatch Loss= 0.932221, Training Accuracy= 0.67969\n",
      "Iter 7680, Minibatch Loss= 1.236949, Training Accuracy= 0.59375\n",
      "Iter 8960, Minibatch Loss= 1.049973, Training Accuracy= 0.66406\n",
      "Iter 10240, Minibatch Loss= 0.857208, Training Accuracy= 0.73438\n",
      "Iter 11520, Minibatch Loss= 0.541492, Training Accuracy= 0.85156\n",
      "Iter 12800, Minibatch Loss= 0.838951, Training Accuracy= 0.71875\n",
      "Iter 14080, Minibatch Loss= 0.706109, Training Accuracy= 0.75000\n",
      "Iter 15360, Minibatch Loss= 0.455755, Training Accuracy= 0.86719\n",
      "Iter 16640, Minibatch Loss= 0.476670, Training Accuracy= 0.89062\n",
      "Iter 17920, Minibatch Loss= 0.308982, Training Accuracy= 0.87500\n",
      "Iter 19200, Minibatch Loss= 0.315929, Training Accuracy= 0.88281\n",
      "Iter 20480, Minibatch Loss= 0.205874, Training Accuracy= 0.95312\n",
      "Iter 21760, Minibatch Loss= 0.450409, Training Accuracy= 0.82812\n",
      "Iter 23040, Minibatch Loss= 0.239112, Training Accuracy= 0.90625\n",
      "Iter 24320, Minibatch Loss= 0.394383, Training Accuracy= 0.86719\n",
      "Iter 25600, Minibatch Loss= 0.357556, Training Accuracy= 0.86719\n",
      "Iter 26880, Minibatch Loss= 0.218724, Training Accuracy= 0.91406\n",
      "Iter 28160, Minibatch Loss= 0.302203, Training Accuracy= 0.90625\n",
      "Iter 29440, Minibatch Loss= 0.302629, Training Accuracy= 0.90625\n",
      "Iter 30720, Minibatch Loss= 0.247559, Training Accuracy= 0.92188\n",
      "Iter 32000, Minibatch Loss= 0.209361, Training Accuracy= 0.91406\n",
      "Iter 33280, Minibatch Loss= 0.266080, Training Accuracy= 0.92188\n",
      "Iter 34560, Minibatch Loss= 0.210495, Training Accuracy= 0.93750\n",
      "Iter 35840, Minibatch Loss= 0.173203, Training Accuracy= 0.94531\n",
      "Iter 37120, Minibatch Loss= 0.293775, Training Accuracy= 0.90625\n",
      "Iter 38400, Minibatch Loss= 0.181424, Training Accuracy= 0.92969\n",
      "Iter 39680, Minibatch Loss= 0.104554, Training Accuracy= 0.96094\n",
      "Iter 40960, Minibatch Loss= 0.387702, Training Accuracy= 0.88281\n",
      "Iter 42240, Minibatch Loss= 0.139076, Training Accuracy= 0.94531\n",
      "Iter 43520, Minibatch Loss= 0.195214, Training Accuracy= 0.92188\n",
      "Iter 44800, Minibatch Loss= 0.224724, Training Accuracy= 0.90625\n",
      "Iter 46080, Minibatch Loss= 0.173278, Training Accuracy= 0.92969\n",
      "Iter 47360, Minibatch Loss= 0.267580, Training Accuracy= 0.91406\n",
      "Iter 48640, Minibatch Loss= 0.235899, Training Accuracy= 0.92188\n",
      "Iter 49920, Minibatch Loss= 0.219674, Training Accuracy= 0.90625\n",
      "Iter 51200, Minibatch Loss= 0.136792, Training Accuracy= 0.95312\n",
      "Iter 52480, Minibatch Loss= 0.151561, Training Accuracy= 0.95312\n",
      "Iter 53760, Minibatch Loss= 0.059293, Training Accuracy= 0.98438\n",
      "Iter 55040, Minibatch Loss= 0.151192, Training Accuracy= 0.94531\n",
      "Iter 56320, Minibatch Loss= 0.140360, Training Accuracy= 0.93750\n",
      "Iter 57600, Minibatch Loss= 0.182780, Training Accuracy= 0.95312\n",
      "Iter 58880, Minibatch Loss= 0.057094, Training Accuracy= 1.00000\n",
      "Iter 60160, Minibatch Loss= 0.218936, Training Accuracy= 0.95312\n",
      "Iter 61440, Minibatch Loss= 0.116103, Training Accuracy= 0.96094\n",
      "Iter 62720, Minibatch Loss= 0.106253, Training Accuracy= 0.96875\n",
      "Iter 64000, Minibatch Loss= 0.074091, Training Accuracy= 0.98438\n",
      "Iter 65280, Minibatch Loss= 0.227450, Training Accuracy= 0.95312\n",
      "Iter 66560, Minibatch Loss= 0.142683, Training Accuracy= 0.94531\n",
      "Iter 67840, Minibatch Loss= 0.344291, Training Accuracy= 0.89844\n",
      "Iter 69120, Minibatch Loss= 0.079570, Training Accuracy= 0.96875\n",
      "Iter 70400, Minibatch Loss= 0.172851, Training Accuracy= 0.96094\n",
      "Iter 71680, Minibatch Loss= 0.142624, Training Accuracy= 0.96094\n",
      "Iter 72960, Minibatch Loss= 0.162125, Training Accuracy= 0.94531\n",
      "Iter 74240, Minibatch Loss= 0.135311, Training Accuracy= 0.95312\n",
      "Iter 75520, Minibatch Loss= 0.205628, Training Accuracy= 0.92188\n",
      "Iter 76800, Minibatch Loss= 0.203915, Training Accuracy= 0.92969\n",
      "Iter 78080, Minibatch Loss= 0.133826, Training Accuracy= 0.96094\n",
      "Iter 79360, Minibatch Loss= 0.108041, Training Accuracy= 0.96094\n",
      "Iter 80640, Minibatch Loss= 0.098879, Training Accuracy= 0.96875\n",
      "Iter 81920, Minibatch Loss= 0.104619, Training Accuracy= 0.96875\n",
      "Iter 83200, Minibatch Loss= 0.137187, Training Accuracy= 0.97656\n",
      "Iter 84480, Minibatch Loss= 0.134603, Training Accuracy= 0.96875\n",
      "Iter 85760, Minibatch Loss= 0.080871, Training Accuracy= 0.96875\n",
      "Iter 87040, Minibatch Loss= 0.276371, Training Accuracy= 0.92969\n",
      "Iter 88320, Minibatch Loss= 0.149156, Training Accuracy= 0.96875\n",
      "Iter 89600, Minibatch Loss= 0.093201, Training Accuracy= 0.95312\n",
      "Iter 90880, Minibatch Loss= 0.104537, Training Accuracy= 0.96094\n",
      "Iter 92160, Minibatch Loss= 0.068558, Training Accuracy= 0.97656\n",
      "Iter 93440, Minibatch Loss= 0.066460, Training Accuracy= 0.98438\n",
      "Iter 94720, Minibatch Loss= 0.104868, Training Accuracy= 0.96875\n",
      "Iter 96000, Minibatch Loss= 0.082021, Training Accuracy= 0.97656\n",
      "Iter 97280, Minibatch Loss= 0.165181, Training Accuracy= 0.94531\n",
      "Iter 98560, Minibatch Loss= 0.197349, Training Accuracy= 0.92969\n",
      "Iter 99840, Minibatch Loss= 0.067011, Training Accuracy= 0.96875\n",
      "Optimization Finished!\n",
      "Testing Accuracy: 0.976562\n"
     ]
    }
   ],
   "source": [
    "# Launch the graph\n",
    "with tf.Session() as sess:\n",
    "    sess.run(init)\n",
    "    step = 1\n",
    "    # Keep training until reach max iterations\n",
    "    while step * batch_size < training_iters:\n",
    "        batch_x, batch_y = mnist.train.next_batch(batch_size)\n",
    "        # Reshape data to get 28 seq of 28 elements\n",
    "        batch_x = batch_x.reshape((batch_size, n_steps, n_input))\n",
    "        # Run optimization op (backprop)\n",
    "        sess.run(optimizer, feed_dict={x: batch_x, y: batch_y})\n",
    "        if step % display_step == 0:\n",
    "            # Calculate batch accuracy\n",
    "            acc           = sess.run(accuracy, feed_dict={x: batch_x, y: batch_y})\n",
    "            #pred_val      = sess.run(correct_pred, feed_dict={x: batch_x, y: batch_y})\n",
    "    \n",
    "            \n",
    "            #print(pred_val)\n",
    "            # Calculate batch loss\n",
    "            loss = sess.run(cost, feed_dict={x: batch_x, y: batch_y})\n",
    "            print(\"Iter \" + str(step*batch_size) + \", Minibatch Loss= \" + \\\n",
    "                  \"{:.6f}\".format(loss) + \", Training Accuracy= \" + \\\n",
    "                  \"{:.5f}\".format(acc))\n",
    "        step += 1\n",
    "    print(\"Optimization Finished!\")\n",
    "\n",
    "    # Calculate accuracy for 128 mnist test images\n",
    "    test_len = 128\n",
    "    test_data = mnist.test.images[:test_len].reshape((-1, n_steps, n_input))\n",
    "    test_label = mnist.test.labels[:test_len]\n",
    "    print(\"Testing Accuracy:\", \\\n",
    "        sess.run(accuracy, feed_dict={x: test_data, y: test_label}))"
   ]
  },
  {
   "cell_type": "code",
   "execution_count": 1,
   "metadata": {
    "collapsed": false
   },
   "outputs": [
    {
     "name": "stdout",
     "output_type": "stream",
     "text": [
      "1.0.0\n"
     ]
    }
   ],
   "source": [
    "import tensorflow as tf\n",
    "print(tf.__version__)"
   ]
  }
 ],
 "metadata": {
  "anaconda-cloud": {},
  "kernelspec": {
   "display_name": "Python [Root]",
   "language": "python",
   "name": "Python [Root]"
  },
  "language_info": {
   "codemirror_mode": {
    "name": "ipython",
    "version": 3
   },
   "file_extension": ".py",
   "mimetype": "text/x-python",
   "name": "python",
   "nbconvert_exporter": "python",
   "pygments_lexer": "ipython3",
   "version": "3.5.2"
  }
 },
 "nbformat": 4,
 "nbformat_minor": 0
}
