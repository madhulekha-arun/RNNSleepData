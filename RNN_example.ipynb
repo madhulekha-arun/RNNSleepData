{
 "cells": [
  {
   "cell_type": "code",
   "execution_count": 2,
   "metadata": {
    "collapsed": false
   },
   "outputs": [
    {
     "name": "stdout",
     "output_type": "stream",
     "text": [
      "Extracting MNIST_data/train-images-idx3-ubyte.gz\n",
      "Extracting MNIST_data/train-labels-idx1-ubyte.gz\n",
      "Extracting MNIST_data/t10k-images-idx3-ubyte.gz\n",
      "Extracting MNIST_data/t10k-labels-idx1-ubyte.gz\n"
     ]
    },
    {
     "data": {
      "text/plain": [
       "'\\nTo classify images using a recurrent neural network, we consider every image\\nrow as a sequence of pixels. Because MNIST image shape is 28*28px, we will then\\nhandle 28 sequences of 28 steps for every sample.\\n'"
      ]
     },
     "execution_count": 2,
     "metadata": {},
     "output_type": "execute_result"
    }
   ],
   "source": [
    "'''\n",
    "A Recurrent Neural Network (LSTM) implementation example using TensorFlow library.\n",
    "This example is using the MNIST database of handwritten digits (http://yann.lecun.com/exdb/mnist/)\n",
    "Long Short Term Memory paper: http://deeplearning.cs.cmu.edu/pdfs/Hochreiter97_lstm.pdf\n",
    "\n",
    "Author: Aymeric Damien\n",
    "Project: https://github.com/aymericdamien/TensorFlow-Examples/\n",
    "'''\n",
    "from __future__ import print_function\n",
    "import tensorflow as tf\n",
    "from tensorflow.contrib import rnn\n",
    "\n",
    "# Import MNIST data\n",
    "from tensorflow.examples.tutorials.mnist import input_data\n",
    "mnist = input_data.read_data_sets(\"MNIST_data/\", one_hot=True)\n",
    "\n",
    "'''\n",
    "To classify images using a recurrent neural network, we consider every image\n",
    "row as a sequence of pixels. Because MNIST image shape is 28*28px, we will then\n",
    "handle 28 sequences of 28 steps for every sample.\n",
    "'''"
   ]
  },
  {
   "cell_type": "code",
   "execution_count": 3,
   "metadata": {
    "collapsed": true
   },
   "outputs": [],
   "source": [
    "# Parameters\n",
    "learning_rate = 0.001\n",
    "training_iters = 100000\n",
    "batch_size = 128\n",
    "display_step = 10\n",
    "\n",
    "# Network Parameters\n",
    "n_input = 28 # MNIST data input (img shape: 28*28)\n",
    "n_steps = 28 # timesteps\n",
    "n_hidden = 128 # hidden layer num of features\n",
    "n_classes = 10 # MNIST total classes (0-9 digits)\n",
    "\n",
    "# tf Graph input\n",
    "x = tf.placeholder(\"float\", [None, n_steps, n_input])\n",
    "y = tf.placeholder(\"float\", [None, n_classes])\n",
    "\n",
    "# Define weights\n",
    "weights = {\n",
    "    'out': tf.Variable(tf.random_normal([n_hidden, n_classes]))\n",
    "}\n",
    "\n",
    "biases = {\n",
    "    'out': tf.Variable(tf.random_normal([n_classes]))\n",
    "}\n"
   ]
  },
  {
   "cell_type": "code",
   "execution_count": 4,
   "metadata": {
    "collapsed": true
   },
   "outputs": [],
   "source": [
    "def RNN(x, weights, biases):\n",
    "\n",
    "    # Prepare data shape to match `rnn` function requirements\n",
    "    # Current data input shape: (batch_size, n_steps, n_input)\n",
    "    # Required shape: 'n_steps' tensors list of shape (batch_size, n_input)\n",
    "\n",
    "    # Permuting batch_size and n_steps\n",
    "    x = tf.transpose(x, [1, 0, 2]) #n_steps , batch , input features\n",
    "    # Reshaping to (n_steps*batch_size, n_input)\n",
    "    x = tf.reshape(x, [-1, n_input])\n",
    "    # Split to get a list of 'n_steps' tensors of shape (batch_size, n_input)\n",
    "    x = tf.split(x, n_steps, 0)\n",
    "    #x = tf.split(0, n_steps,x)\n",
    "\n",
    "    # Define a lstm cell with tensorflow\n",
    "    lstm_cell = rnn.BasicLSTMCell(n_hidden, forget_bias=1.0)\n",
    "    #lstm_cell = tf.nn.rnn_cell.BasicLSTMCell(n_hidden, forget_bias=1.0)\n",
    "\n",
    "    # Get lstm cell output\n",
    "    outputs, states = rnn.static_rnn(lstm_cell, x, dtype=tf.float32)\n",
    "    #outputs, states = tf.nn.rnn_cell.static_rnn(lstm_cell, x, dtype=tf.float32)\n",
    "\n",
    "    # Linear activation, using rnn inner loop last output\n",
    "    return tf.matmul(outputs[-1], weights['out']) + biases['out']\n",
    "\n"
   ]
  },
  {
   "cell_type": "code",
   "execution_count": 5,
   "metadata": {
    "collapsed": false
   },
   "outputs": [],
   "source": [
    "pred = RNN(x, weights, biases)\n",
    "\n",
    "# Define loss and optimizer\n",
    "cost = tf.reduce_mean(tf.nn.softmax_cross_entropy_with_logits(logits=pred, labels=y))\n",
    "optimizer = tf.train.AdamOptimizer(learning_rate=learning_rate).minimize(cost)\n",
    "\n",
    "# Evaluate model\n",
    "correct_pred = tf.equal(tf.argmax(pred,1), tf.argmax(y,1))\n",
    "accuracy = tf.reduce_mean(tf.cast(correct_pred, tf.float32))\n",
    "\n",
    "# Initializing the variables\n",
    "init = tf.global_variables_initializer()\n"
   ]
  },
  {
   "cell_type": "code",
   "execution_count": 6,
   "metadata": {
    "collapsed": false
   },
   "outputs": [
    {
     "name": "stdout",
     "output_type": "stream",
     "text": [
      "Iter 1280, Minibatch Loss= 1.881304, Training Accuracy= 0.30469\n",
      "Iter 2560, Minibatch Loss= 1.619390, Training Accuracy= 0.49219\n",
      "Iter 3840, Minibatch Loss= 1.286046, Training Accuracy= 0.53125\n",
      "Iter 5120, Minibatch Loss= 1.056682, Training Accuracy= 0.66406\n",
      "Iter 6400, Minibatch Loss= 0.786109, Training Accuracy= 0.72656\n",
      "Iter 7680, Minibatch Loss= 1.264567, Training Accuracy= 0.58594\n",
      "Iter 8960, Minibatch Loss= 0.962878, Training Accuracy= 0.68750\n",
      "Iter 10240, Minibatch Loss= 0.825379, Training Accuracy= 0.71875\n",
      "Iter 11520, Minibatch Loss= 0.534252, Training Accuracy= 0.81250\n",
      "Iter 12800, Minibatch Loss= 0.729392, Training Accuracy= 0.72656\n",
      "Iter 14080, Minibatch Loss= 0.734175, Training Accuracy= 0.78125\n",
      "Iter 15360, Minibatch Loss= 0.380806, Training Accuracy= 0.89062\n",
      "Iter 16640, Minibatch Loss= 0.427919, Training Accuracy= 0.89844\n",
      "Iter 17920, Minibatch Loss= 0.350697, Training Accuracy= 0.89062\n",
      "Iter 19200, Minibatch Loss= 0.301599, Training Accuracy= 0.89844\n",
      "Iter 20480, Minibatch Loss= 0.211617, Training Accuracy= 0.96875\n",
      "Iter 21760, Minibatch Loss= 0.474113, Training Accuracy= 0.84375\n",
      "Iter 23040, Minibatch Loss= 0.159535, Training Accuracy= 0.95312\n",
      "Iter 24320, Minibatch Loss= 0.384668, Training Accuracy= 0.88281\n",
      "Iter 25600, Minibatch Loss= 0.473555, Training Accuracy= 0.85156\n",
      "Iter 26880, Minibatch Loss= 0.232619, Training Accuracy= 0.92188\n",
      "Iter 28160, Minibatch Loss= 0.217036, Training Accuracy= 0.92969\n",
      "Iter 29440, Minibatch Loss= 0.271054, Training Accuracy= 0.90625\n",
      "Iter 30720, Minibatch Loss= 0.356777, Training Accuracy= 0.84375\n",
      "Iter 32000, Minibatch Loss= 0.185026, Training Accuracy= 0.93750\n",
      "Iter 33280, Minibatch Loss= 0.302324, Training Accuracy= 0.89062\n",
      "Iter 34560, Minibatch Loss= 0.226922, Training Accuracy= 0.94531\n",
      "Iter 35840, Minibatch Loss= 0.256296, Training Accuracy= 0.89844\n",
      "Iter 37120, Minibatch Loss= 0.312975, Training Accuracy= 0.89844\n",
      "Iter 38400, Minibatch Loss= 0.166652, Training Accuracy= 0.94531\n",
      "Iter 39680, Minibatch Loss= 0.124780, Training Accuracy= 0.97656\n",
      "Iter 40960, Minibatch Loss= 0.370713, Training Accuracy= 0.88281\n",
      "Iter 42240, Minibatch Loss= 0.165523, Training Accuracy= 0.93750\n",
      "Iter 43520, Minibatch Loss= 0.172477, Training Accuracy= 0.93750\n",
      "Iter 44800, Minibatch Loss= 0.228321, Training Accuracy= 0.90625\n",
      "Iter 46080, Minibatch Loss= 0.098980, Training Accuracy= 0.96094\n",
      "Iter 47360, Minibatch Loss= 0.268250, Training Accuracy= 0.92969\n",
      "Iter 48640, Minibatch Loss= 0.206277, Training Accuracy= 0.93750\n",
      "Iter 49920, Minibatch Loss= 0.209993, Training Accuracy= 0.92969\n",
      "Iter 51200, Minibatch Loss= 0.116162, Training Accuracy= 0.95312\n",
      "Iter 52480, Minibatch Loss= 0.208846, Training Accuracy= 0.96094\n",
      "Iter 53760, Minibatch Loss= 0.042128, Training Accuracy= 0.99219\n",
      "Iter 55040, Minibatch Loss= 0.286643, Training Accuracy= 0.92969\n",
      "Iter 56320, Minibatch Loss= 0.167178, Training Accuracy= 0.94531\n",
      "Iter 57600, Minibatch Loss= 0.239000, Training Accuracy= 0.92188\n",
      "Iter 58880, Minibatch Loss= 0.108769, Training Accuracy= 0.96875\n",
      "Iter 60160, Minibatch Loss= 0.097676, Training Accuracy= 0.95312\n",
      "Iter 61440, Minibatch Loss= 0.142440, Training Accuracy= 0.96875\n",
      "Iter 62720, Minibatch Loss= 0.111350, Training Accuracy= 0.96094\n",
      "Iter 64000, Minibatch Loss= 0.161819, Training Accuracy= 0.93750\n",
      "Iter 65280, Minibatch Loss= 0.145750, Training Accuracy= 0.96094\n",
      "Iter 66560, Minibatch Loss= 0.094214, Training Accuracy= 0.96094\n",
      "Iter 67840, Minibatch Loss= 0.161421, Training Accuracy= 0.94531\n",
      "Iter 69120, Minibatch Loss= 0.078440, Training Accuracy= 0.96875\n",
      "Iter 70400, Minibatch Loss= 0.124167, Training Accuracy= 0.94531\n",
      "Iter 71680, Minibatch Loss= 0.085461, Training Accuracy= 0.96875\n",
      "Iter 72960, Minibatch Loss= 0.095426, Training Accuracy= 0.98438\n",
      "Iter 74240, Minibatch Loss= 0.065698, Training Accuracy= 0.98438\n",
      "Iter 75520, Minibatch Loss= 0.074541, Training Accuracy= 0.97656\n",
      "Iter 76800, Minibatch Loss= 0.100290, Training Accuracy= 0.96094\n",
      "Iter 78080, Minibatch Loss= 0.052292, Training Accuracy= 0.98438\n",
      "Iter 79360, Minibatch Loss= 0.109502, Training Accuracy= 0.96094\n",
      "Iter 80640, Minibatch Loss= 0.074972, Training Accuracy= 0.96875\n",
      "Iter 81920, Minibatch Loss= 0.117767, Training Accuracy= 0.97656\n",
      "Iter 83200, Minibatch Loss= 0.016977, Training Accuracy= 1.00000\n",
      "Iter 84480, Minibatch Loss= 0.146780, Training Accuracy= 0.96875\n",
      "Iter 85760, Minibatch Loss= 0.192891, Training Accuracy= 0.96094\n",
      "Iter 87040, Minibatch Loss= 0.207301, Training Accuracy= 0.93750\n",
      "Iter 88320, Minibatch Loss= 0.122498, Training Accuracy= 0.96094\n",
      "Iter 89600, Minibatch Loss= 0.049053, Training Accuracy= 0.98438\n",
      "Iter 90880, Minibatch Loss= 0.096871, Training Accuracy= 0.95312\n",
      "Iter 92160, Minibatch Loss= 0.096118, Training Accuracy= 0.98438\n",
      "Iter 93440, Minibatch Loss= 0.146344, Training Accuracy= 0.96875\n",
      "Iter 94720, Minibatch Loss= 0.117075, Training Accuracy= 0.97656\n",
      "Iter 96000, Minibatch Loss= 0.080598, Training Accuracy= 0.97656\n",
      "Iter 97280, Minibatch Loss= 0.110953, Training Accuracy= 0.95312\n",
      "Iter 98560, Minibatch Loss= 0.062976, Training Accuracy= 0.98438\n",
      "Iter 99840, Minibatch Loss= 0.126289, Training Accuracy= 0.94531\n",
      "Optimization Finished!\n",
      "Testing Accuracy: 1.0\n"
     ]
    }
   ],
   "source": [
    "# Launch the graph\n",
    "with tf.Session() as sess:\n",
    "    sess.run(init)\n",
    "    step = 1\n",
    "    # Keep training until reach max iterations\n",
    "    while step * batch_size < training_iters:\n",
    "        batch_x, batch_y = mnist.train.next_batch(batch_size)\n",
    "        # Reshape data to get 28 seq of 28 elements\n",
    "        batch_x = batch_x.reshape((batch_size, n_steps, n_input))\n",
    "        # Run optimization op (backprop)\n",
    "        sess.run(optimizer, feed_dict={x: batch_x, y: batch_y})\n",
    "        if step % display_step == 0:\n",
    "            # Calculate batch accuracy\n",
    "            acc = sess.run(accuracy, feed_dict={x: batch_x, y: batch_y})\n",
    "            # Calculate batch loss\n",
    "            loss = sess.run(cost, feed_dict={x: batch_x, y: batch_y})\n",
    "            print(\"Iter \" + str(step*batch_size) + \", Minibatch Loss= \" + \\\n",
    "                  \"{:.6f}\".format(loss) + \", Training Accuracy= \" + \\\n",
    "                  \"{:.5f}\".format(acc))\n",
    "        step += 1\n",
    "    print(\"Optimization Finished!\")\n",
    "\n",
    "    # Calculate accuracy for 128 mnist test images\n",
    "    test_len = 128\n",
    "    test_data = mnist.test.images[:test_len].reshape((-1, n_steps, n_input))\n",
    "    test_label = mnist.test.labels[:test_len]\n",
    "    print(\"Testing Accuracy:\", \\\n",
    "        sess.run(accuracy, feed_dict={x: test_data, y: test_label}))"
   ]
  },
  {
   "cell_type": "code",
   "execution_count": 1,
   "metadata": {
    "collapsed": false
   },
   "outputs": [
    {
     "name": "stdout",
     "output_type": "stream",
     "text": [
      "1.0.0\n"
     ]
    }
   ],
   "source": [
    "import tensorflow as tf\n",
    "print(tf.__version__)"
   ]
  }
 ],
 "metadata": {
  "anaconda-cloud": {},
  "kernelspec": {
   "display_name": "Python [Root]",
   "language": "python",
   "name": "Python [Root]"
  },
  "language_info": {
   "codemirror_mode": {
    "name": "ipython",
    "version": 3
   },
   "file_extension": ".py",
   "mimetype": "text/x-python",
   "name": "python",
   "nbconvert_exporter": "python",
   "pygments_lexer": "ipython3",
   "version": "3.5.2"
  }
 },
 "nbformat": 4,
 "nbformat_minor": 0
}
